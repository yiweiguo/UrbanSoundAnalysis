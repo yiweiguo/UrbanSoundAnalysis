{
 "cells": [
  {
   "cell_type": "code",
   "execution_count": 4,
   "metadata": {
    "collapsed": false
   },
   "outputs": [
    {
     "ename": "ImportError",
     "evalue": "No module named tensorflow",
     "output_type": "error",
     "traceback": [
      "\u001b[0;31m---------------------------------------------------------------------------\u001b[0m",
      "\u001b[0;31mImportError\u001b[0m                               Traceback (most recent call last)",
      "\u001b[0;32m<ipython-input-4-d848d5718612>\u001b[0m in \u001b[0;36m<module>\u001b[0;34m()\u001b[0m\n\u001b[1;32m      8\u001b[0m \u001b[0;32mimport\u001b[0m \u001b[0msys\u001b[0m\u001b[0;34m\u001b[0m\u001b[0m\n\u001b[1;32m      9\u001b[0m \u001b[0msys\u001b[0m\u001b[0;34m.\u001b[0m\u001b[0mexecutable\u001b[0m\u001b[0;34m\u001b[0m\u001b[0m\n\u001b[0;32m---> 10\u001b[0;31m \u001b[0;32mimport\u001b[0m \u001b[0mtensorflow\u001b[0m \u001b[0;32mas\u001b[0m \u001b[0mtf\u001b[0m\u001b[0;34m\u001b[0m\u001b[0m\n\u001b[0m\u001b[1;32m     11\u001b[0m \u001b[0mget_ipython\u001b[0m\u001b[0;34m(\u001b[0m\u001b[0;34m)\u001b[0m\u001b[0;34m.\u001b[0m\u001b[0mmagic\u001b[0m\u001b[0;34m(\u001b[0m\u001b[0;34mu'matplotlib inline'\u001b[0m\u001b[0;34m)\u001b[0m\u001b[0;34m\u001b[0m\u001b[0m\n\u001b[1;32m     12\u001b[0m \u001b[0mplt\u001b[0m\u001b[0;34m.\u001b[0m\u001b[0mstyle\u001b[0m\u001b[0;34m.\u001b[0m\u001b[0muse\u001b[0m\u001b[0;34m(\u001b[0m\u001b[0;34m'ggplot'\u001b[0m\u001b[0;34m)\u001b[0m\u001b[0;34m\u001b[0m\u001b[0m\n",
      "\u001b[0;31mImportError\u001b[0m: No module named tensorflow"
     ]
    }
   ],
   "source": [
    "from numpy import random\n",
    "import numpy as np\n",
    "import os\n",
    "import librosa \n",
    "import librosa.display\n",
    "import matplotlib.pyplot as plt\n",
    "from matplotlib.pyplot import specgram\n",
    "import sys\n",
    "sys.executable\n",
    "import tensorflow as tf\n",
    "%matplotlib inline\n",
    "plt.style.use('ggplot')\n",
    "\n",
    "plt.rcParams['font.serif'] = 'Ubuntu'\n",
    "plt.rcParams['font.monospace'] = 'Ubuntu Mono'\n",
    "plt.rcParams['font.size'] = 12\n",
    "plt.rcParams['axes.labelsize'] = 11\n",
    "plt.rcParams['axes.labelweight'] = 'bold'\n",
    "plt.rcParams['axes.titlesize'] = 14\n",
    "plt.rcParams['xtick.labelsize'] = 10\n",
    "plt.rcParams['ytick.labelsize'] = 10\n",
    "plt.rcParams['legend.fontsize'] = 11\n",
    "plt.rcParams['figure.titlesize'] = 13"
   ]
  },
  {
   "cell_type": "code",
   "execution_count": null,
   "metadata": {
    "collapsed": true
   },
   "outputs": [],
   "source": [
    "def getLabel(filename, dict_label):\n",
    "    '''\n",
    "    Input: single filename\n",
    "    Output: The label associated with the sound clip\n",
    "    '''\n",
    "    file_info = filename.split('.')[0]\n",
    "    label = int(file_info.split('-')[1])\n",
    "    return label"
   ]
  },
  {
   "cell_type": "code",
   "execution_count": null,
   "metadata": {
    "collapsed": false
   },
   "outputs": [],
   "source": [
    "def one_hot_encode(labels):\n",
    "    '''\n",
    "    Input: label array \n",
    "    Output: encoded version of the label array\n",
    "    '''\n",
    "    n_labels = len(labels)\n",
    "    n_unique_labels = 10\n",
    "    one_hot_encode = np.zeros((n_labels,n_unique_labels))\n",
    "    one_hot_encode[np.arange(n_labels), labels] = 1\n",
    "    return one_hot_encode"
   ]
  },
  {
   "cell_type": "code",
   "execution_count": null,
   "metadata": {
    "collapsed": false
   },
   "outputs": [],
   "source": [
    "def load_sound(file_names):\n",
    "    '''\n",
    "    Input: filenames in the current working directory\n",
    "    Output: array storing float ndarrays associated with each wav file\n",
    "    '''\n",
    "    raw_sounds = []\n",
    "    for name in file_names:\n",
    "        Y, sr = librosa.load(name)\n",
    "        raw_sounds.append(Y)\n",
    "    return raw_sounds"
   ]
  },
  {
   "cell_type": "code",
   "execution_count": null,
   "metadata": {
    "collapsed": true
   },
   "outputs": [],
   "source": [
    "def extract_feature(file_name):\n",
    "    '''\n",
    "    Input: file_name\n",
    "    Output: stft, mfcc, chroma, mel, contrast, tonnetz features from the raw sound\n",
    "    '''\n",
    "    X, sample_rate = librosa.load(file_name)\n",
    "    stft = np.abs(librosa.stft(X))\n",
    "    mfccs = np.mean(librosa.feature.mfcc(y=X, sr=sample_rate, n_mfcc=40).T,axis=0)\n",
    "    chroma = np.mean(librosa.feature.chroma_stft(S=stft, sr=sample_rate).T,axis=0)\n",
    "    mel = np.mean(librosa.feature.melspectrogram(X, sr=sample_rate).T,axis=0)\n",
    "    contrast = np.mean(librosa.feature.spectral_contrast(S=stft, sr=sample_rate).T,axis=0)\n",
    "    tonnetz = np.mean(librosa.feature.tonnetz(y=librosa.effects.harmonic(X), sr=sample_rate).T,axis=0)\n",
    "    return mfccs,chroma,mel,contrast,tonnetz"
   ]
  },
  {
   "cell_type": "code",
   "execution_count": null,
   "metadata": {
    "collapsed": false
   },
   "outputs": [],
   "source": [
    "cwd = os.getcwd()\n",
    "dir_sound = cwd + '/UrbanSound8K/Audio/fold'\n",
    "# Build reference dict for the Urban Sound Taxonomy\n",
    "dict_label = {\n",
    "0: 'air_conditioner',\n",
    "1: 'car_horn',\n",
    "2: 'children_playing',\n",
    "3: 'dog_bark',\n",
    "4: 'drilling',\n",
    "5: 'engine_idling',\n",
    "6: 'gun_shot',\n",
    "7: 'jackhammer',\n",
    "8: 'siren',\n",
    "9: 'street_music'\n",
    "}"
   ]
  },
  {
   "cell_type": "code",
   "execution_count": null,
   "metadata": {
    "collapsed": false
   },
   "outputs": [],
   "source": [
    "train_stat_dict = {}\n",
    "test_stat_dict = {}\n",
    "# Initialize a test and train status dictionary \n",
    "for i in range(0, 10):\n",
    "    train_stat_dict[i] = 0\n",
    "    test_stat_dict[i] = 0\n",
    "print train_stat_dict\n",
    "print test_stat_dict"
   ]
  },
  {
   "cell_type": "code",
   "execution_count": null,
   "metadata": {
    "collapsed": false
   },
   "outputs": [],
   "source": [
    "arr = np.arange(10) + 1\n",
    "np.random.shuffle(arr)\n",
    "print arr"
   ]
  },
  {
   "cell_type": "code",
   "execution_count": null,
   "metadata": {
    "collapsed": false
   },
   "outputs": [],
   "source": [
    "# 80% to 20% train test split\n",
    "# trainging examples: 800\n",
    "# test examples: 200\n",
    "# Randomly chosen from 10 folders\n",
    "tr_raw_features, tr_sound_labels = np.empty((0,193)), np.empty((0,10))\n",
    "test_raw_features, test_sound_labels = np.empty((0,193)), np.empty((0,10))\n",
    "for i in range(0, 10):\n",
    "   print \"Loading folder \" + str(arr[i])\n",
    "   cur_file_names = random.choice(os.listdir(dir_sound + str(arr[i]))[1:],100)\n",
    "   new_file_names = ['UrbanSound8K/Audio/fold' + str(arr[i]) + '/' + name for name in cur_file_names]\n",
    "   features, labels = np.empty((0,193)), np.empty((0, 10))\n",
    "   if i <= 8:\n",
    "      for fn in new_file_names:\n",
    "          mfccs, chroma, mel, contrast,tonnetz = extract_feature(fn)\n",
    "          ext_features = np.hstack([mfccs,chroma,mel,contrast,tonnetz])\n",
    "          features = np.vstack([features,ext_features])\n",
    "      tr_raw_features =  np.vstack([tr_raw_features,features])\n",
    "      num_labels = [getLabel(name, dict_label) for name in cur_file_names]\n",
    "      encoded_labels = one_hot_encoder(num_labels)\n",
    "      tr_sound_labels = np.vstack([tr_sound_labels, encoded_labels])\n",
    "      for name in cur_file_names:\n",
    "          train_stat_dict[getLabel(name, dict_label)] += 1\n",
    "   else:\n",
    "      for fn in new_file_names:\n",
    "          mfccs, chroma, mel, contrast,tonnetz = extract_feature(fn)\n",
    "          ext_features = np.hstack([mfccs,chroma,mel,contrast,tonnetz])\n",
    "          features = np.vstack([features,ext_features])\n",
    "      test_raw_features =  np.vstack([test_raw_features,features])\n",
    "      num_labels = [getLabel(name, dict_label) for name in cur_file_names]\n",
    "      encoded_labels = one_hot_encoder(num_labels)\n",
    "      test_sound_labels = np.vstack([test_sound_labels, encoded_labels])\n",
    "      for name in cur_file_names:\n",
    "          test_stat_dict[getLabel(name, dict_label)] += 1"
   ]
  },
  {
   "cell_type": "code",
   "execution_count": null,
   "metadata": {
    "collapsed": false
   },
   "outputs": [],
   "source": [
    "# Test the status dictionary\n",
    "print train_stat_dict\n",
    "print test_stat_dict"
   ]
  },
  {
   "cell_type": "code",
   "execution_count": null,
   "metadata": {
    "collapsed": false
   },
   "outputs": [],
   "source": [
    "def plot_waves(raw_sound):\n",
    "    '''\n",
    "    Input: the raw_sound array of a given audio clip\n",
    "    Output: time series plot, specgram and Log amplitude plot\n",
    "    '''\n",
    "    plt.figure()\n",
    "    i = 1\n",
    "    while i <= 3:\n",
    "        plt.subplot(3,1,i)\n",
    "        if i == 1: librosa.display.waveplot(np.array(raw_sound),sr=22050)\n",
    "        elif i == 2: specgram(np.array(raw_sound), Fs=22050)\n",
    "        else: \n",
    "            S = np.abs(librosa.stft(raw_sound))\n",
    "            librosa.display.specshow(librosa.power_to_db(S**2, ref=np.max),sr=22050, y_axis='log', x_axis='time')\n",
    "            plt.colorbar(format='%+2.0f dB')\n",
    "            plt.title('Log-Power spectrogram')\n",
    "        plt.show()\n",
    "        i += 1"
   ]
  },
  {
   "cell_type": "code",
   "execution_count": null,
   "metadata": {
    "collapsed": false
   },
   "outputs": [],
   "source": [
    "sample_file_name = 'UrbanSound8K/Audio/fold1/135776-2-0-65.wav'\n",
    "X, sample_rate = librosa.load(sample_file_name)\n",
    "# Plot of the wave given a raw sound clip\n",
    "# Just for demonstration purposes\n",
    "plot_waves(X)"
   ]
  },
  {
   "cell_type": "code",
   "execution_count": null,
   "metadata": {
    "collapsed": false
   },
   "outputs": [],
   "source": [
    "from IPython.display import Markdown\n",
    "\n",
    "Markdown(\"\"\"\n",
    "# Using Neural Network to train the examples\n",
    "\"\"\")"
   ]
  },
  {
   "cell_type": "code",
   "execution_count": null,
   "metadata": {
    "collapsed": false
   },
   "outputs": [],
   "source": [
    "# Sanity check\n",
    "assert(tr_raw_features.shape[1] == 193)\n",
    "assert(test_raw_features.shape[1] == 193)\n",
    "assert(tr_sound_labels.shape[1] == 10)\n",
    "assert(test_sound_labels.shape[1] == 10)"
   ]
  },
  {
   "cell_type": "code",
   "execution_count": null,
   "metadata": {
    "collapsed": false
   },
   "outputs": [],
   "source": [
    "import tensorflow as tf\n",
    "from sklearn.metrics import precision_recall_fscore_support"
   ]
  },
  {
   "cell_type": "raw",
   "metadata": {
    "collapsed": true
   },
   "source": [
    "# Specify the parameters of the taining\n",
    "training_epochs = 5000\n",
    "n_dim = features.shape[1]\n",
    "n_classes = 10\n",
    "n_hidden_units_one = 280 \n",
    "n_hidden_units_two = 300\n",
    "sd = 1 / np.sqrt(n_dim)\n",
    "learning_rate = 0.01"
   ]
  },
  {
   "cell_type": "code",
   "execution_count": null,
   "metadata": {
    "collapsed": true
   },
   "outputs": [],
   "source": []
  },
  {
   "cell_type": "code",
   "execution_count": null,
   "metadata": {
    "collapsed": true
   },
   "outputs": [],
   "source": []
  }
 ],
 "metadata": {
  "kernelspec": {
   "display_name": "Python 2",
   "language": "python",
   "name": "python2"
  },
  "language_info": {
   "codemirror_mode": {
    "name": "ipython",
    "version": 2
   },
   "file_extension": ".py",
   "mimetype": "text/x-python",
   "name": "python",
   "nbconvert_exporter": "python",
   "pygments_lexer": "ipython2",
   "version": "2.7.13"
  }
 },
 "nbformat": 4,
 "nbformat_minor": 2
}
