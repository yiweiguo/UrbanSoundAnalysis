{
 "cells": [
  {
   "cell_type": "code",
   "execution_count": 7,
   "metadata": {},
   "outputs": [
    {
     "data": {
      "text/plain": [
       "'\\ndef main():\\n    head = \\'trec/train\\'\\n    level = \\'random3000even\\'\\n    features = Features(head + \\'/\\' + level + \\'/index\\', is_naive_bayes=False)\\n    features.prepare(head, features.taglize())\\n    svm_object = SVM(features)\\n    while True:\\n        test_head = input(\\'Input test head:\\')\\n        if test_head == \\'q\\':\\n            return\\n        test_level = input(\\'Input test level:\\')\\n        print(\\'Testing...\\n\\')\\n        cases = svm_object.testlize(test_head + \\'/\\' + test_level + \\'/index\\')\\n        test_data, test_label = svm_object.load_test_data(test_head, cases)\\n        print(\"Test data loaded!\")\\n        train_features = np.array([])\\n\\n        for ind in range(0, len(svm_object.features.feature_words)):\\n            key_word = \"String\" + str(ind)\\n            if ind == 0:\\n                train_features = np.hstack([train_features, svm_object.features.feature_vector[key_word]])\\n            else:\\n                train_features = np.vstack([train_features, svm_object.features.feature_vector[key_word]])\\n        train_features = np.transpose(train_features)\\n        train_labels = svm_object.features.label_vector\\n        svm_object.train(train_features, train_labels, test_data, test_label)\\n\\n\\nif __name__ == \\'__main__\\':\\n    main()'"
      ]
     },
     "execution_count": 7,
     "metadata": {},
     "output_type": "execute_result"
    }
   ],
   "source": [
    "import os\n",
    "import numpy as np\n",
    "from FeatureLoading import Features\n",
    "from sklearn.svm import SVC\n",
    "from sklearn.metrics import precision_recall_curve\n",
    "import matplotlib.pyplot as plt\n",
    "\n",
    "class SVM(object):\n",
    "\n",
    "    def __init__(self, features):\n",
    "        self.features = features\n",
    "        self.svm_model = SVC(C=10, gamma=\"auto\")\n",
    "        self.precision = None\n",
    "        self.recall = None\n",
    "\n",
    "    def testlize(self, test_dir):\n",
    "        index_f = open(test_dir, 'r')\n",
    "        corpus = [tuple((line.split('\\n'))[0].split(' ..'))\n",
    "                  for line in index_f]\n",
    "        index_f.close()\n",
    "        return corpus\n",
    "\n",
    "    def train(self, features, labels, feature_test, labels_test):\n",
    "\n",
    "        self.svm_model.fit(features, labels)\n",
    "        accuracy = self.svm_model.score(feature_test, labels_test)\n",
    "        #result = np.equal(predicted, labels_test)\n",
    "        test_score = self.svm_model.decision_function(feature_test)\n",
    "        print(\"The accuracy is \" + str(accuracy) + '.\\n')\n",
    "        self.precision, self.recall, _ = precision_recall_curve(labels_test, test_score)\n",
    "        '''\n",
    "        plt.step(recall, precision, color='b', alpha=0.2,\n",
    "                 where='post')\n",
    "        plt.fill_between(recall, precision, step='post', alpha=0.2,\n",
    "                         color='b')\n",
    "\n",
    "        plt.xlabel('Recall')\n",
    "        plt.ylabel('Precision')\n",
    "        plt.ylim([0.0, 1.05])\n",
    "        plt.xlim([0.0, 1.0])\n",
    "        plt.title('2-class Precision-Recall curve')'''\n",
    "\n",
    "    def load_test_data(self, super_path, corpus):\n",
    "        test_class_vector = np.array([])\n",
    "        test_feature_columns = {}\n",
    "        '''for ind in range(0, len(self.features.feature_words)):\n",
    "            key_string = \"String\" + str(ind)\n",
    "            test_feature_columns[key_string] = np.array([])\n",
    "        '''\n",
    "        test_features = np.array([])\n",
    "        counter = 0\n",
    "        for label, path in corpus:\n",
    "            if label.lower() == \"spam\":\n",
    "                test_class_vector = np.hstack([test_class_vector, 1])\n",
    "            else:\n",
    "                test_class_vector = np.hstack([test_class_vector, 0])\n",
    "            if super_path == \"trec/train\":\n",
    "                email_path = path\n",
    "            else:\n",
    "                email_path = super_path + path\n",
    "            if os.path.exists(email_path):\n",
    "                test_feature = np.zeros(len(self.features.feature_words), dtype=np.float32)\n",
    "                tokens = self.features.tokenlize(email_path)\n",
    "                if tokens[1]:\n",
    "                    words = tokens[0]\n",
    "                    for i in range(len(words)):\n",
    "                        word = words[i]\n",
    "                        if word in self.features.feature_words:\n",
    "                            index = self.features.feature_words.index(word)\n",
    "                            test_feature[index] += 1\n",
    "                            if i != len(words) - 1:\n",
    "                                bigram = tokens[0][i] + \" \" + tokens[0][i + 1]\n",
    "                                if bigram in self.features.feature_words:\n",
    "                                    index = self.features.feature_words.index(bigram)\n",
    "                                    test_feature[index] += 1\n",
    "                if counter == 0:\n",
    "                    test_features = np.hstack([test_features, test_feature])\n",
    "                else:\n",
    "                    test_features = np.vstack([test_features, test_feature])\n",
    "                counter += 1\n",
    "\n",
    "        return test_features, test_class_vector\n",
    "\n",
    "'''\n",
    "def main():\n",
    "    head = 'trec/train'\n",
    "    level = 'random3000even'\n",
    "    features = Features(head + '/' + level + '/index', is_naive_bayes=False)\n",
    "    features.prepare(head, features.taglize())\n",
    "    svm_object = SVM(features)\n",
    "    while True:\n",
    "        test_head = input('Input test head:')\n",
    "        if test_head == 'q':\n",
    "            return\n",
    "        test_level = input('Input test level:')\n",
    "        print('Testing...\\n')\n",
    "        cases = svm_object.testlize(test_head + '/' + test_level + '/index')\n",
    "        test_data, test_label = svm_object.load_test_data(test_head, cases)\n",
    "        print(\"Test data loaded!\")\n",
    "        train_features = np.array([])\n",
    "\n",
    "        for ind in range(0, len(svm_object.features.feature_words)):\n",
    "            key_word = \"String\" + str(ind)\n",
    "            if ind == 0:\n",
    "                train_features = np.hstack([train_features, svm_object.features.feature_vector[key_word]])\n",
    "            else:\n",
    "                train_features = np.vstack([train_features, svm_object.features.feature_vector[key_word]])\n",
    "        train_features = np.transpose(train_features)\n",
    "        train_labels = svm_object.features.label_vector\n",
    "        svm_object.train(train_features, train_labels, test_data, test_label)\n",
    "\n",
    "\n",
    "if __name__ == '__main__':\n",
    "    main()'''"
   ]
  },
  {
   "cell_type": "code",
   "execution_count": 12,
   "metadata": {},
   "outputs": [
    {
     "name": "stdout",
     "output_type": "stream",
     "text": [
      "trec/train\n",
      "Input test head:trec/trec05p-1\n",
      "Input test level:test\n",
      "Testing...\n",
      "\n",
      "Test data loaded!\n",
      "The accuracy is 0.8204.\n",
      "\n",
      "Input test head:q\n"
     ]
    }
   ],
   "source": [
    "head = 'trec/train'\n",
    "level = 'random3000even'\n",
    "features = Features(head + '/' + level + '/index', is_naive_bayes=False)\n",
    "features.prepare(head, features.taglize())\n",
    "svm_object = SVM(features)\n",
    "while True:\n",
    "    test_head = input('Input test head:')\n",
    "    if test_head == 'q':\n",
    "        break\n",
    "    test_level = input('Input test level:')\n",
    "    print('Testing...\\n')\n",
    "    cases = svm_object.testlize(test_head + '/' + test_level + '/index')\n",
    "    test_data, test_label = svm_object.load_test_data(test_head, cases)\n",
    "    print(\"Test data loaded!\")\n",
    "    train_features = np.array([])\n",
    "\n",
    "    for ind in range(0, len(svm_object.features.feature_words)):\n",
    "        key_word = \"String\" + str(ind)\n",
    "        if ind == 0:\n",
    "            train_features = np.hstack([train_features, svm_object.features.feature_vector[key_word]])\n",
    "        else:\n",
    "            train_features = np.vstack([train_features, svm_object.features.feature_vector[key_word]])\n",
    "    train_features = np.transpose(train_features)\n",
    "    train_labels = svm_object.features.label_vector\n",
    "    svm_object.train(train_features, train_labels, test_data, test_label)"
   ]
  },
  {
   "cell_type": "code",
   "execution_count": 14,
   "metadata": {},
   "outputs": [
    {
     "data": {
      "text/plain": [
       "Text(0.5,1,'2-class Precision-Recall curve(from trec2005)')"
      ]
     },
     "execution_count": 14,
     "metadata": {},
     "output_type": "execute_result"
    },
    {
     "data": {
      "image/png": "[encoded data removed]",
      "text/plain": [
       "<Figure size 432x288 with 1 Axes>"
      ]
     },
     "metadata": {},
     "output_type": "display_data"
    }
   ],
   "source": [
    "plt.step(svm_object.recall, svm_object.precision, color='b', alpha=0.2, where='post')\n",
    "plt.fill_between(svm_object.recall, svm_object.precision, step='post', alpha=0.2, color='b')\n",
    "\n",
    "plt.xlabel('Recall')\n",
    "plt.ylabel('Precision')\n",
    "plt.ylim([0.0, 1.05])\n",
    "plt.xlim([0.0, 1.0])\n",
    "plt.title('2-class Precision-Recall curve(from trec2005)')"
   ]
  },
  {
   "cell_type": "code",
   "execution_count": null,
   "metadata": {},
   "outputs": [],
   "source": []
  }
 ],
 "metadata": {
  "kernelspec": {
   "display_name": "Python 3",
   "language": "python",
   "name": "python3"
  },
  "language_info": {
   "codemirror_mode": {
    "name": "ipython",
    "version": 3
   },
   "file_extension": ".py",
   "mimetype": "text/x-python",
   "name": "python",
   "nbconvert_exporter": "python",
   "pygments_lexer": "ipython3",
   "version": "3.5.2"
  }
 },
 "nbformat": 4,
 "nbformat_minor": 2
}
